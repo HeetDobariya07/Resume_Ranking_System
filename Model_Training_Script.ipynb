{
  "cells": [
    {
      "cell_type": "code",
      "execution_count": 1,
      "metadata": {
        "id": "qsyDOIZiHdWf"
      },
      "outputs": [
        {
          "name": "stderr",
          "output_type": "stream",
          "text": [
            "C:\\Users\\HEET\\AppData\\Roaming\\Python\\Python311\\site-packages\\tqdm\\auto.py:21: TqdmWarning: IProgress not found. Please update jupyter and ipywidgets. See https://ipywidgets.readthedocs.io/en/stable/user_install.html\n",
            "  from .autonotebook import tqdm as notebook_tqdm\n"
          ]
        },
        {
          "name": "stdout",
          "output_type": "stream",
          "text": [
            "WARNING:tensorflow:From C:\\Users\\HEET\\AppData\\Roaming\\Python\\Python311\\site-packages\\tf_keras\\src\\losses.py:2976: The name tf.losses.sparse_softmax_cross_entropy is deprecated. Please use tf.compat.v1.losses.sparse_softmax_cross_entropy instead.\n",
            "\n"
          ]
        }
      ],
      "source": [
        "import pandas as pd\n",
        "import numpy as np\n",
        "from sentence_transformers import SentenceTransformer\n",
        "from sklearn.model_selection import train_test_split\n",
        "from sklearn.preprocessing import MinMaxScaler\n",
        "from sklearn.linear_model import Ridge\n",
        "from sklearn.ensemble import RandomForestRegressor, GradientBoostingRegressor\n",
        "from sklearn.svm import SVR\n",
        "from sklearn.metrics import mean_squared_error, r2_score\n",
        "import pickle\n",
        "import time"
      ]
    },
    {
      "cell_type": "code",
      "execution_count": 2,
      "metadata": {
        "id": "747nTwm9Hevx"
      },
      "outputs": [],
      "source": [
        "# 1. Load labeled data\n",
        "labeled_df = pd.read_csv('datasets/labeled_resume_job_pairs.csv')\n",
        "labeled_df = labeled_df.dropna(subset=['resume_text', 'job_text', 'relevancy_score'])\n",
        "\n",
        "# Optional: sample for faster experimentation (remove or increase for full data)\n",
        "if len(labeled_df) > 3000:\n",
        "    labeled_df = labeled_df.sample(n=3000, random_state=42)"
      ]
    },
    {
      "cell_type": "code",
      "execution_count": 3,
      "metadata": {
        "colab": {
          "base_uri": "https://localhost:8080/",
          "height": 133,
          "referenced_widgets": [
            "79465e7957394853ba80d9e1c65f230f",
            "ca5f51cc4b354bfdaae9c2442e8565b4",
            "08ca975c032b4af298317bdb2cb67c63",
            "250725f611ae495f8f31b5611ca8ce14",
            "8666880ca61749cabf3119597112cf74",
            "1011adccbd274eefa92c8c1121b2b193",
            "7e7dad61073444a597edfc69cb51728c",
            "1f67b6d326ae4bbc9d11b3d9b69b1a17",
            "287ac445f75a4effb152617e9691c3ff",
            "173c2a48445b4accb464579cce8cc227",
            "0e3fb4338a6c42e08902aeff6a17d681",
            "79c184df61f4449ba0322f72b04514b4",
            "cdc3576e638e4e58954b75f42517a36c",
            "e1d3870ca1834811b9a6136847e7792b",
            "da970c74496c418481fc4d621242b406",
            "eba8fad416244e6a80d64ebbb0f076aa",
            "5c8c1c683360435ab87d21f1bfc89285",
            "3cac8e523bbd4eb4a56c8727b1d7791b",
            "a60eeed1a6314e05b48037a51627f0db",
            "ffdc6bdbc8d644289c3c14a07a49b6f9",
            "9b1b6f04b16f47009da8f7c3cb61110a",
            "bba35c348c21455f82566eb882e3f9d7"
          ]
        },
        "id": "VUBc5aPiHilf",
        "outputId": "41fa60a2-8788-4684-ee7d-ef317e25d4eb"
      },
      "outputs": [
        {
          "name": "stdout",
          "output_type": "stream",
          "text": [
            "Loading sentence-transformers model...\n",
            "Embedding resume texts...\n"
          ]
        },
        {
          "name": "stderr",
          "output_type": "stream",
          "text": [
            "Batches: 100%|██████████| 94/94 [00:53<00:00,  1.76it/s]\n"
          ]
        },
        {
          "name": "stdout",
          "output_type": "stream",
          "text": [
            "Embedding job description texts...\n"
          ]
        },
        {
          "name": "stderr",
          "output_type": "stream",
          "text": [
            "Batches: 100%|██████████| 94/94 [00:11<00:00,  8.51it/s]\n"
          ]
        }
      ],
      "source": [
        "# 2. Load sentence transformer model for embeddings\n",
        "print(\"Loading sentence-transformers model...\")\n",
        "embedder = SentenceTransformer('all-MiniLM-L6-v2')\n",
        "\n",
        "# 3. Create embeddings for resume and job texts\n",
        "print(\"Embedding resume texts...\")\n",
        "resume_embeddings = embedder.encode(labeled_df['resume_text'].tolist(), show_progress_bar=True, convert_to_numpy=True)\n",
        "\n",
        "print(\"Embedding job description texts...\")\n",
        "job_embeddings = embedder.encode(labeled_df['job_text'].tolist(), show_progress_bar=True, convert_to_numpy=True)"
      ]
    },
    {
      "cell_type": "code",
      "execution_count": 4,
      "metadata": {
        "id": "g-WS81A2Hmc0"
      },
      "outputs": [],
      "source": [
        "# 4. Combine embeddings (concatenate)\n",
        "X = np.hstack([resume_embeddings, job_embeddings])\n",
        "\n",
        "# 5. Prepare target variable and scale it\n",
        "y = labeled_df['relevancy_score'].values.reshape(-1, 1)\n",
        "scaler = MinMaxScaler()\n",
        "y_scaled = scaler.fit_transform(y).ravel()"
      ]
    },
    {
      "cell_type": "code",
      "execution_count": 5,
      "metadata": {
        "id": "7H8sYpNnHoG2"
      },
      "outputs": [],
      "source": [
        "# 6. Train/test split\n",
        "X_train, X_test, y_train, y_test = train_test_split(X, y_scaled, test_size=0.2, random_state=42)\n",
        "\n",
        "# 7. Define models with reasonable parameters\n",
        "models = {\n",
        "    'Ridge': Ridge(),\n",
        "    'RandomForest': RandomForestRegressor(n_estimators=50, max_depth=15, n_jobs=-1, random_state=42),\n",
        "    'GradientBoosting': GradientBoostingRegressor(n_estimators=50, max_depth=7, random_state=42),\n",
        "    'SVR': SVR(kernel='linear', C=1.0)\n",
        "}\n",
        "\n",
        "results = {}"
      ]
    },
    {
      "cell_type": "code",
      "execution_count": 6,
      "metadata": {
        "colab": {
          "base_uri": "https://localhost:8080/"
        },
        "id": "-yOpzj-OHp_w",
        "outputId": "2e994c60-72df-409e-c851-df67c536fa33"
      },
      "outputs": [
        {
          "name": "stdout",
          "output_type": "stream",
          "text": [
            "\n",
            "Training Ridge...\n",
            "Predicting with Ridge...\n",
            "Ridge Results -> MSE: 4.744, R²: 0.670, Training Time: 0.19 sec\n",
            "\n",
            "Training RandomForest...\n",
            "Predicting with RandomForest...\n",
            "RandomForest Results -> MSE: 2.215, R²: 0.846, Training Time: 5.30 sec\n",
            "\n",
            "Training GradientBoosting...\n",
            "Predicting with GradientBoosting...\n",
            "GradientBoosting Results -> MSE: 1.867, R²: 0.870, Training Time: 53.26 sec\n",
            "\n",
            "Training SVR...\n",
            "Predicting with SVR...\n",
            "SVR Results -> MSE: 5.315, R²: 0.630, Training Time: 0.66 sec\n"
          ]
        }
      ],
      "source": [
        "# 8. Train, evaluate, and save models\n",
        "for name, model in models.items():\n",
        "    print(f\"\\nTraining {name}...\")\n",
        "    start_time = time.time()\n",
        "    model.fit(X_train, y_train)\n",
        "    train_time = time.time() - start_time\n",
        "\n",
        "    print(f\"Predicting with {name}...\")\n",
        "    y_pred_scaled = model.predict(X_test)\n",
        "    y_pred = scaler.inverse_transform(y_pred_scaled.reshape(-1, 1)).ravel()\n",
        "    y_true = scaler.inverse_transform(y_test.reshape(-1, 1)).ravel()\n",
        "\n",
        "    mse = mean_squared_error(y_true, y_pred)\n",
        "    r2 = r2_score(y_true, y_pred)\n",
        "\n",
        "    results[name] = {'mse': mse, 'r2': r2, 'train_time_sec': train_time}\n",
        "\n",
        "    print(f\"{name} Results -> MSE: {mse:.3f}, R²: {r2:.3f}, Training Time: {train_time:.2f} sec\")\n",
        "\n",
        "    # Save model\n",
        "    with open(f\"Trained_Models/{name}_relevancy_model.pkl\", \"wb\") as f:\n",
        "        pickle.dump(model, f)"
      ]
    },
    {
      "cell_type": "code",
      "execution_count": 7,
      "metadata": {
        "colab": {
          "base_uri": "https://localhost:8080/"
        },
        "id": "EJWDtUohHrnI",
        "outputId": "cfb88950-2caa-4073-867b-249fef5abe15"
      },
      "outputs": [
        {
          "name": "stdout",
          "output_type": "stream",
          "text": [
            "\n",
            "=== Model Performance Summary ===\n",
            "Ridge: MSE=4.744, R²=0.670, Train Time=0.19s\n",
            "RandomForest: MSE=2.215, R²=0.846, Train Time=5.30s\n",
            "GradientBoosting: MSE=1.867, R²=0.870, Train Time=53.26s\n",
            "SVR: MSE=5.315, R²=0.630, Train Time=0.66s\n",
            "\n",
            "Best model based on MSE: GradientBoosting with MSE=1.867\n"
          ]
        }
      ],
      "source": [
        "# 9. Save the embedding model and scaler for inference\n",
        "embedder.save('sentence_transformer_model')\n",
        "with open('Trained_Models/scaler.pkl', 'wb') as f:\n",
        "    pickle.dump(scaler, f)\n",
        "\n",
        "# 10. Print summary\n",
        "print(\"\\n=== Model Performance Summary ===\")\n",
        "for name, metrics in results.items():\n",
        "    print(f\"{name}: MSE={metrics['mse']:.3f}, R²={metrics['r2']:.3f}, Train Time={metrics['train_time_sec']:.2f}s\")\n",
        "\n",
        "best_model = min(results.items(), key=lambda x: x[1]['mse'])\n",
        "print(f\"\\nBest model based on MSE: {best_model[0]} with MSE={best_model[1]['mse']:.3f}\")\n"
      ]
    },
    {
      "cell_type": "code",
      "execution_count": null,
      "metadata": {
        "colab": {
          "base_uri": "https://localhost:8080/"
        },
        "id": "gEpb6G4LKFLU",
        "outputId": "57b460a2-b264-4912-e2d8-2a695523acbc"
      },
      "outputs": [
        {
          "ename": "FileNotFoundError",
          "evalue": "[Errno 2] No such file or directory: 'scaler.pkl'",
          "output_type": "error",
          "traceback": [
            "\u001b[31m---------------------------------------------------------------------------\u001b[39m",
            "\u001b[31mFileNotFoundError\u001b[39m                         Traceback (most recent call last)",
            "\u001b[36mCell\u001b[39m\u001b[36m \u001b[39m\u001b[32mIn[8]\u001b[39m\u001b[32m, line 7\u001b[39m\n\u001b[32m      5\u001b[39m \u001b[38;5;66;03m# Load the embedding model, scaler, and trained regression model\u001b[39;00m\n\u001b[32m      6\u001b[39m embedder = SentenceTransformer(\u001b[33m'\u001b[39m\u001b[33msentence_transformer_model\u001b[39m\u001b[33m'\u001b[39m)\n\u001b[32m----> \u001b[39m\u001b[32m7\u001b[39m scaler = pickle.load(\u001b[38;5;28;43mopen\u001b[39;49m\u001b[43m(\u001b[49m\u001b[33;43m'\u001b[39;49m\u001b[33;43mscaler.pkl\u001b[39;49m\u001b[33;43m'\u001b[39;49m\u001b[43m,\u001b[49m\u001b[43m \u001b[49m\u001b[33;43m'\u001b[39;49m\u001b[33;43mrb\u001b[39;49m\u001b[33;43m'\u001b[39;49m\u001b[43m)\u001b[49m)\n\u001b[32m      8\u001b[39m model = pickle.load(\u001b[38;5;28mopen\u001b[39m(\u001b[33m'\u001b[39m\u001b[33mGradientBoosting_relevancy_model.pkl\u001b[39m\u001b[33m'\u001b[39m, \u001b[33m'\u001b[39m\u001b[33mrb\u001b[39m\u001b[33m'\u001b[39m))  \u001b[38;5;66;03m# Change filename as needed\u001b[39;00m\n\u001b[32m     10\u001b[39m \u001b[38;5;28;01mdef\u001b[39;00m\u001b[38;5;250m \u001b[39m\u001b[34mpredict_relevancy\u001b[39m(resume_text, job_text):\n\u001b[32m     11\u001b[39m     \u001b[38;5;66;03m# Embed texts separately\u001b[39;00m\n",
            "\u001b[36mFile \u001b[39m\u001b[32m~\\AppData\\Roaming\\Python\\Python311\\site-packages\\IPython\\core\\interactiveshell.py:326\u001b[39m, in \u001b[36m_modified_open\u001b[39m\u001b[34m(file, *args, **kwargs)\u001b[39m\n\u001b[32m    319\u001b[39m \u001b[38;5;28;01mif\u001b[39;00m file \u001b[38;5;129;01min\u001b[39;00m {\u001b[32m0\u001b[39m, \u001b[32m1\u001b[39m, \u001b[32m2\u001b[39m}:\n\u001b[32m    320\u001b[39m     \u001b[38;5;28;01mraise\u001b[39;00m \u001b[38;5;167;01mValueError\u001b[39;00m(\n\u001b[32m    321\u001b[39m         \u001b[33mf\u001b[39m\u001b[33m\"\u001b[39m\u001b[33mIPython won\u001b[39m\u001b[33m'\u001b[39m\u001b[33mt let you open fd=\u001b[39m\u001b[38;5;132;01m{\u001b[39;00mfile\u001b[38;5;132;01m}\u001b[39;00m\u001b[33m by default \u001b[39m\u001b[33m\"\u001b[39m\n\u001b[32m    322\u001b[39m         \u001b[33m\"\u001b[39m\u001b[33mas it is likely to crash IPython. If you know what you are doing, \u001b[39m\u001b[33m\"\u001b[39m\n\u001b[32m    323\u001b[39m         \u001b[33m\"\u001b[39m\u001b[33myou can use builtins\u001b[39m\u001b[33m'\u001b[39m\u001b[33m open.\u001b[39m\u001b[33m\"\u001b[39m\n\u001b[32m    324\u001b[39m     )\n\u001b[32m--> \u001b[39m\u001b[32m326\u001b[39m \u001b[38;5;28;01mreturn\u001b[39;00m \u001b[43mio_open\u001b[49m\u001b[43m(\u001b[49m\u001b[43mfile\u001b[49m\u001b[43m,\u001b[49m\u001b[43m \u001b[49m\u001b[43m*\u001b[49m\u001b[43margs\u001b[49m\u001b[43m,\u001b[49m\u001b[43m \u001b[49m\u001b[43m*\u001b[49m\u001b[43m*\u001b[49m\u001b[43mkwargs\u001b[49m\u001b[43m)\u001b[49m\n",
            "\u001b[31mFileNotFoundError\u001b[39m: [Errno 2] No such file or directory: 'scaler.pkl'"
          ]
        }
      ],
      "source": [
        "import numpy as np\n",
        "import pickle\n",
        "from sentence_transformers import SentenceTransformer\n",
        "\n",
        "# Load the embedding model, scaler, and trained regression model\n",
        "embedder = SentenceTransformer('sentence_transformer_model')\n",
        "scaler = pickle.load(open('Trained_Models/scaler.pkl', 'rb'))\n",
        "model = pickle.load(open('Trained_Models/GradientBoosting_relevancy_model.pkl', 'rb'))  # Change filename as needed\n",
        "\n",
        "def predict_relevancy(resume_text, job_text):\n",
        "    # Embed texts separately\n",
        "    resume_emb = embedder.encode([resume_text], convert_to_numpy=True)\n",
        "    job_emb = embedder.encode([job_text], convert_to_numpy=True)\n",
        "\n",
        "    # Combine embeddings (concatenate)\n",
        "    combined_emb = np.hstack([resume_emb, job_emb])\n",
        "\n",
        "    # Predict scaled score and inverse transform to original scale\n",
        "    pred_scaled = model.predict(combined_emb)\n",
        "    pred = scaler.inverse_transform(pred_scaled.reshape(-1, 1))[0][0]\n",
        "\n",
        "    # Clamp score between 0 and 100 for safety\n",
        "    pred = max(0, min(100, pred))\n",
        "\n",
        "    return round(pred, 2)\n",
        "\n",
        "# Example usage:\n",
        "resume_example = \"Skills: Python, HTML, CSS. Education: Bachelor. Experience: 1 year as Web Developer.\"\n",
        "job_example = \"Required Skills: Python, SQL, Data Analysis, Machine Learning, Pandas, NumPy. Required Education: Bachelor. Required Experience: 2 years.\"\n",
        "\n",
        "score = predict_relevancy(resume_example, job_example)\n",
        "print(f\"Predicted Relevancy Score: {score}\")\n"
      ]
    }
  ],
  "metadata": {
    "accelerator": "GPU",
    "colab": {
      "gpuType": "T4",
      "provenance": []
    },
    "kernelspec": {
      "display_name": "Python 3",
      "language": "python",
      "name": "python3"
    },
    "language_info": {
      "codemirror_mode": {
        "name": "ipython",
        "version": 3
      },
      "file_extension": ".py",
      "mimetype": "text/x-python",
      "name": "python",
      "nbconvert_exporter": "python",
      "pygments_lexer": "ipython3",
      "version": "3.11.0"
    },
    "widgets": {
      "application/vnd.jupyter.widget-state+json": {
        "08ca975c032b4af298317bdb2cb67c63": {
          "model_module": "@jupyter-widgets/controls",
          "model_module_version": "1.5.0",
          "model_name": "FloatProgressModel",
          "state": {
            "_dom_classes": [],
            "_model_module": "@jupyter-widgets/controls",
            "_model_module_version": "1.5.0",
            "_model_name": "FloatProgressModel",
            "_view_count": null,
            "_view_module": "@jupyter-widgets/controls",
            "_view_module_version": "1.5.0",
            "_view_name": "ProgressView",
            "bar_style": "success",
            "description": "",
            "description_tooltip": null,
            "layout": "IPY_MODEL_1f67b6d326ae4bbc9d11b3d9b69b1a17",
            "max": 94,
            "min": 0,
            "orientation": "horizontal",
            "style": "IPY_MODEL_287ac445f75a4effb152617e9691c3ff",
            "value": 94
          }
        },
        "0e3fb4338a6c42e08902aeff6a17d681": {
          "model_module": "@jupyter-widgets/controls",
          "model_module_version": "1.5.0",
          "model_name": "DescriptionStyleModel",
          "state": {
            "_model_module": "@jupyter-widgets/controls",
            "_model_module_version": "1.5.0",
            "_model_name": "DescriptionStyleModel",
            "_view_count": null,
            "_view_module": "@jupyter-widgets/base",
            "_view_module_version": "1.2.0",
            "_view_name": "StyleView",
            "description_width": ""
          }
        },
        "1011adccbd274eefa92c8c1121b2b193": {
          "model_module": "@jupyter-widgets/base",
          "model_module_version": "1.2.0",
          "model_name": "LayoutModel",
          "state": {
            "_model_module": "@jupyter-widgets/base",
            "_model_module_version": "1.2.0",
            "_model_name": "LayoutModel",
            "_view_count": null,
            "_view_module": "@jupyter-widgets/base",
            "_view_module_version": "1.2.0",
            "_view_name": "LayoutView",
            "align_content": null,
            "align_items": null,
            "align_self": null,
            "border": null,
            "bottom": null,
            "display": null,
            "flex": null,
            "flex_flow": null,
            "grid_area": null,
            "grid_auto_columns": null,
            "grid_auto_flow": null,
            "grid_auto_rows": null,
            "grid_column": null,
            "grid_gap": null,
            "grid_row": null,
            "grid_template_areas": null,
            "grid_template_columns": null,
            "grid_template_rows": null,
            "height": null,
            "justify_content": null,
            "justify_items": null,
            "left": null,
            "margin": null,
            "max_height": null,
            "max_width": null,
            "min_height": null,
            "min_width": null,
            "object_fit": null,
            "object_position": null,
            "order": null,
            "overflow": null,
            "overflow_x": null,
            "overflow_y": null,
            "padding": null,
            "right": null,
            "top": null,
            "visibility": null,
            "width": null
          }
        },
        "173c2a48445b4accb464579cce8cc227": {
          "model_module": "@jupyter-widgets/base",
          "model_module_version": "1.2.0",
          "model_name": "LayoutModel",
          "state": {
            "_model_module": "@jupyter-widgets/base",
            "_model_module_version": "1.2.0",
            "_model_name": "LayoutModel",
            "_view_count": null,
            "_view_module": "@jupyter-widgets/base",
            "_view_module_version": "1.2.0",
            "_view_name": "LayoutView",
            "align_content": null,
            "align_items": null,
            "align_self": null,
            "border": null,
            "bottom": null,
            "display": null,
            "flex": null,
            "flex_flow": null,
            "grid_area": null,
            "grid_auto_columns": null,
            "grid_auto_flow": null,
            "grid_auto_rows": null,
            "grid_column": null,
            "grid_gap": null,
            "grid_row": null,
            "grid_template_areas": null,
            "grid_template_columns": null,
            "grid_template_rows": null,
            "height": null,
            "justify_content": null,
            "justify_items": null,
            "left": null,
            "margin": null,
            "max_height": null,
            "max_width": null,
            "min_height": null,
            "min_width": null,
            "object_fit": null,
            "object_position": null,
            "order": null,
            "overflow": null,
            "overflow_x": null,
            "overflow_y": null,
            "padding": null,
            "right": null,
            "top": null,
            "visibility": null,
            "width": null
          }
        },
        "1f67b6d326ae4bbc9d11b3d9b69b1a17": {
          "model_module": "@jupyter-widgets/base",
          "model_module_version": "1.2.0",
          "model_name": "LayoutModel",
          "state": {
            "_model_module": "@jupyter-widgets/base",
            "_model_module_version": "1.2.0",
            "_model_name": "LayoutModel",
            "_view_count": null,
            "_view_module": "@jupyter-widgets/base",
            "_view_module_version": "1.2.0",
            "_view_name": "LayoutView",
            "align_content": null,
            "align_items": null,
            "align_self": null,
            "border": null,
            "bottom": null,
            "display": null,
            "flex": null,
            "flex_flow": null,
            "grid_area": null,
            "grid_auto_columns": null,
            "grid_auto_flow": null,
            "grid_auto_rows": null,
            "grid_column": null,
            "grid_gap": null,
            "grid_row": null,
            "grid_template_areas": null,
            "grid_template_columns": null,
            "grid_template_rows": null,
            "height": null,
            "justify_content": null,
            "justify_items": null,
            "left": null,
            "margin": null,
            "max_height": null,
            "max_width": null,
            "min_height": null,
            "min_width": null,
            "object_fit": null,
            "object_position": null,
            "order": null,
            "overflow": null,
            "overflow_x": null,
            "overflow_y": null,
            "padding": null,
            "right": null,
            "top": null,
            "visibility": null,
            "width": null
          }
        },
        "250725f611ae495f8f31b5611ca8ce14": {
          "model_module": "@jupyter-widgets/controls",
          "model_module_version": "1.5.0",
          "model_name": "HTMLModel",
          "state": {
            "_dom_classes": [],
            "_model_module": "@jupyter-widgets/controls",
            "_model_module_version": "1.5.0",
            "_model_name": "HTMLModel",
            "_view_count": null,
            "_view_module": "@jupyter-widgets/controls",
            "_view_module_version": "1.5.0",
            "_view_name": "HTMLView",
            "description": "",
            "description_tooltip": null,
            "layout": "IPY_MODEL_173c2a48445b4accb464579cce8cc227",
            "placeholder": "​",
            "style": "IPY_MODEL_0e3fb4338a6c42e08902aeff6a17d681",
            "value": " 94/94 [00:06&lt;00:00, 25.81it/s]"
          }
        },
        "287ac445f75a4effb152617e9691c3ff": {
          "model_module": "@jupyter-widgets/controls",
          "model_module_version": "1.5.0",
          "model_name": "ProgressStyleModel",
          "state": {
            "_model_module": "@jupyter-widgets/controls",
            "_model_module_version": "1.5.0",
            "_model_name": "ProgressStyleModel",
            "_view_count": null,
            "_view_module": "@jupyter-widgets/base",
            "_view_module_version": "1.2.0",
            "_view_name": "StyleView",
            "bar_color": null,
            "description_width": ""
          }
        },
        "3cac8e523bbd4eb4a56c8727b1d7791b": {
          "model_module": "@jupyter-widgets/controls",
          "model_module_version": "1.5.0",
          "model_name": "DescriptionStyleModel",
          "state": {
            "_model_module": "@jupyter-widgets/controls",
            "_model_module_version": "1.5.0",
            "_model_name": "DescriptionStyleModel",
            "_view_count": null,
            "_view_module": "@jupyter-widgets/base",
            "_view_module_version": "1.2.0",
            "_view_name": "StyleView",
            "description_width": ""
          }
        },
        "5c8c1c683360435ab87d21f1bfc89285": {
          "model_module": "@jupyter-widgets/base",
          "model_module_version": "1.2.0",
          "model_name": "LayoutModel",
          "state": {
            "_model_module": "@jupyter-widgets/base",
            "_model_module_version": "1.2.0",
            "_model_name": "LayoutModel",
            "_view_count": null,
            "_view_module": "@jupyter-widgets/base",
            "_view_module_version": "1.2.0",
            "_view_name": "LayoutView",
            "align_content": null,
            "align_items": null,
            "align_self": null,
            "border": null,
            "bottom": null,
            "display": null,
            "flex": null,
            "flex_flow": null,
            "grid_area": null,
            "grid_auto_columns": null,
            "grid_auto_flow": null,
            "grid_auto_rows": null,
            "grid_column": null,
            "grid_gap": null,
            "grid_row": null,
            "grid_template_areas": null,
            "grid_template_columns": null,
            "grid_template_rows": null,
            "height": null,
            "justify_content": null,
            "justify_items": null,
            "left": null,
            "margin": null,
            "max_height": null,
            "max_width": null,
            "min_height": null,
            "min_width": null,
            "object_fit": null,
            "object_position": null,
            "order": null,
            "overflow": null,
            "overflow_x": null,
            "overflow_y": null,
            "padding": null,
            "right": null,
            "top": null,
            "visibility": null,
            "width": null
          }
        },
        "79465e7957394853ba80d9e1c65f230f": {
          "model_module": "@jupyter-widgets/controls",
          "model_module_version": "1.5.0",
          "model_name": "HBoxModel",
          "state": {
            "_dom_classes": [],
            "_model_module": "@jupyter-widgets/controls",
            "_model_module_version": "1.5.0",
            "_model_name": "HBoxModel",
            "_view_count": null,
            "_view_module": "@jupyter-widgets/controls",
            "_view_module_version": "1.5.0",
            "_view_name": "HBoxView",
            "box_style": "",
            "children": [
              "IPY_MODEL_ca5f51cc4b354bfdaae9c2442e8565b4",
              "IPY_MODEL_08ca975c032b4af298317bdb2cb67c63",
              "IPY_MODEL_250725f611ae495f8f31b5611ca8ce14"
            ],
            "layout": "IPY_MODEL_8666880ca61749cabf3119597112cf74"
          }
        },
        "79c184df61f4449ba0322f72b04514b4": {
          "model_module": "@jupyter-widgets/controls",
          "model_module_version": "1.5.0",
          "model_name": "HBoxModel",
          "state": {
            "_dom_classes": [],
            "_model_module": "@jupyter-widgets/controls",
            "_model_module_version": "1.5.0",
            "_model_name": "HBoxModel",
            "_view_count": null,
            "_view_module": "@jupyter-widgets/controls",
            "_view_module_version": "1.5.0",
            "_view_name": "HBoxView",
            "box_style": "",
            "children": [
              "IPY_MODEL_cdc3576e638e4e58954b75f42517a36c",
              "IPY_MODEL_e1d3870ca1834811b9a6136847e7792b",
              "IPY_MODEL_da970c74496c418481fc4d621242b406"
            ],
            "layout": "IPY_MODEL_eba8fad416244e6a80d64ebbb0f076aa"
          }
        },
        "7e7dad61073444a597edfc69cb51728c": {
          "model_module": "@jupyter-widgets/controls",
          "model_module_version": "1.5.0",
          "model_name": "DescriptionStyleModel",
          "state": {
            "_model_module": "@jupyter-widgets/controls",
            "_model_module_version": "1.5.0",
            "_model_name": "DescriptionStyleModel",
            "_view_count": null,
            "_view_module": "@jupyter-widgets/base",
            "_view_module_version": "1.2.0",
            "_view_name": "StyleView",
            "description_width": ""
          }
        },
        "8666880ca61749cabf3119597112cf74": {
          "model_module": "@jupyter-widgets/base",
          "model_module_version": "1.2.0",
          "model_name": "LayoutModel",
          "state": {
            "_model_module": "@jupyter-widgets/base",
            "_model_module_version": "1.2.0",
            "_model_name": "LayoutModel",
            "_view_count": null,
            "_view_module": "@jupyter-widgets/base",
            "_view_module_version": "1.2.0",
            "_view_name": "LayoutView",
            "align_content": null,
            "align_items": null,
            "align_self": null,
            "border": null,
            "bottom": null,
            "display": null,
            "flex": null,
            "flex_flow": null,
            "grid_area": null,
            "grid_auto_columns": null,
            "grid_auto_flow": null,
            "grid_auto_rows": null,
            "grid_column": null,
            "grid_gap": null,
            "grid_row": null,
            "grid_template_areas": null,
            "grid_template_columns": null,
            "grid_template_rows": null,
            "height": null,
            "justify_content": null,
            "justify_items": null,
            "left": null,
            "margin": null,
            "max_height": null,
            "max_width": null,
            "min_height": null,
            "min_width": null,
            "object_fit": null,
            "object_position": null,
            "order": null,
            "overflow": null,
            "overflow_x": null,
            "overflow_y": null,
            "padding": null,
            "right": null,
            "top": null,
            "visibility": null,
            "width": null
          }
        },
        "9b1b6f04b16f47009da8f7c3cb61110a": {
          "model_module": "@jupyter-widgets/base",
          "model_module_version": "1.2.0",
          "model_name": "LayoutModel",
          "state": {
            "_model_module": "@jupyter-widgets/base",
            "_model_module_version": "1.2.0",
            "_model_name": "LayoutModel",
            "_view_count": null,
            "_view_module": "@jupyter-widgets/base",
            "_view_module_version": "1.2.0",
            "_view_name": "LayoutView",
            "align_content": null,
            "align_items": null,
            "align_self": null,
            "border": null,
            "bottom": null,
            "display": null,
            "flex": null,
            "flex_flow": null,
            "grid_area": null,
            "grid_auto_columns": null,
            "grid_auto_flow": null,
            "grid_auto_rows": null,
            "grid_column": null,
            "grid_gap": null,
            "grid_row": null,
            "grid_template_areas": null,
            "grid_template_columns": null,
            "grid_template_rows": null,
            "height": null,
            "justify_content": null,
            "justify_items": null,
            "left": null,
            "margin": null,
            "max_height": null,
            "max_width": null,
            "min_height": null,
            "min_width": null,
            "object_fit": null,
            "object_position": null,
            "order": null,
            "overflow": null,
            "overflow_x": null,
            "overflow_y": null,
            "padding": null,
            "right": null,
            "top": null,
            "visibility": null,
            "width": null
          }
        },
        "a60eeed1a6314e05b48037a51627f0db": {
          "model_module": "@jupyter-widgets/base",
          "model_module_version": "1.2.0",
          "model_name": "LayoutModel",
          "state": {
            "_model_module": "@jupyter-widgets/base",
            "_model_module_version": "1.2.0",
            "_model_name": "LayoutModel",
            "_view_count": null,
            "_view_module": "@jupyter-widgets/base",
            "_view_module_version": "1.2.0",
            "_view_name": "LayoutView",
            "align_content": null,
            "align_items": null,
            "align_self": null,
            "border": null,
            "bottom": null,
            "display": null,
            "flex": null,
            "flex_flow": null,
            "grid_area": null,
            "grid_auto_columns": null,
            "grid_auto_flow": null,
            "grid_auto_rows": null,
            "grid_column": null,
            "grid_gap": null,
            "grid_row": null,
            "grid_template_areas": null,
            "grid_template_columns": null,
            "grid_template_rows": null,
            "height": null,
            "justify_content": null,
            "justify_items": null,
            "left": null,
            "margin": null,
            "max_height": null,
            "max_width": null,
            "min_height": null,
            "min_width": null,
            "object_fit": null,
            "object_position": null,
            "order": null,
            "overflow": null,
            "overflow_x": null,
            "overflow_y": null,
            "padding": null,
            "right": null,
            "top": null,
            "visibility": null,
            "width": null
          }
        },
        "bba35c348c21455f82566eb882e3f9d7": {
          "model_module": "@jupyter-widgets/controls",
          "model_module_version": "1.5.0",
          "model_name": "DescriptionStyleModel",
          "state": {
            "_model_module": "@jupyter-widgets/controls",
            "_model_module_version": "1.5.0",
            "_model_name": "DescriptionStyleModel",
            "_view_count": null,
            "_view_module": "@jupyter-widgets/base",
            "_view_module_version": "1.2.0",
            "_view_name": "StyleView",
            "description_width": ""
          }
        },
        "ca5f51cc4b354bfdaae9c2442e8565b4": {
          "model_module": "@jupyter-widgets/controls",
          "model_module_version": "1.5.0",
          "model_name": "HTMLModel",
          "state": {
            "_dom_classes": [],
            "_model_module": "@jupyter-widgets/controls",
            "_model_module_version": "1.5.0",
            "_model_name": "HTMLModel",
            "_view_count": null,
            "_view_module": "@jupyter-widgets/controls",
            "_view_module_version": "1.5.0",
            "_view_name": "HTMLView",
            "description": "",
            "description_tooltip": null,
            "layout": "IPY_MODEL_1011adccbd274eefa92c8c1121b2b193",
            "placeholder": "​",
            "style": "IPY_MODEL_7e7dad61073444a597edfc69cb51728c",
            "value": "Batches: 100%"
          }
        },
        "cdc3576e638e4e58954b75f42517a36c": {
          "model_module": "@jupyter-widgets/controls",
          "model_module_version": "1.5.0",
          "model_name": "HTMLModel",
          "state": {
            "_dom_classes": [],
            "_model_module": "@jupyter-widgets/controls",
            "_model_module_version": "1.5.0",
            "_model_name": "HTMLModel",
            "_view_count": null,
            "_view_module": "@jupyter-widgets/controls",
            "_view_module_version": "1.5.0",
            "_view_name": "HTMLView",
            "description": "",
            "description_tooltip": null,
            "layout": "IPY_MODEL_5c8c1c683360435ab87d21f1bfc89285",
            "placeholder": "​",
            "style": "IPY_MODEL_3cac8e523bbd4eb4a56c8727b1d7791b",
            "value": "Batches: 100%"
          }
        },
        "da970c74496c418481fc4d621242b406": {
          "model_module": "@jupyter-widgets/controls",
          "model_module_version": "1.5.0",
          "model_name": "HTMLModel",
          "state": {
            "_dom_classes": [],
            "_model_module": "@jupyter-widgets/controls",
            "_model_module_version": "1.5.0",
            "_model_name": "HTMLModel",
            "_view_count": null,
            "_view_module": "@jupyter-widgets/controls",
            "_view_module_version": "1.5.0",
            "_view_name": "HTMLView",
            "description": "",
            "description_tooltip": null,
            "layout": "IPY_MODEL_9b1b6f04b16f47009da8f7c3cb61110a",
            "placeholder": "​",
            "style": "IPY_MODEL_bba35c348c21455f82566eb882e3f9d7",
            "value": " 94/94 [00:02&lt;00:00, 58.10it/s]"
          }
        },
        "e1d3870ca1834811b9a6136847e7792b": {
          "model_module": "@jupyter-widgets/controls",
          "model_module_version": "1.5.0",
          "model_name": "FloatProgressModel",
          "state": {
            "_dom_classes": [],
            "_model_module": "@jupyter-widgets/controls",
            "_model_module_version": "1.5.0",
            "_model_name": "FloatProgressModel",
            "_view_count": null,
            "_view_module": "@jupyter-widgets/controls",
            "_view_module_version": "1.5.0",
            "_view_name": "ProgressView",
            "bar_style": "success",
            "description": "",
            "description_tooltip": null,
            "layout": "IPY_MODEL_a60eeed1a6314e05b48037a51627f0db",
            "max": 94,
            "min": 0,
            "orientation": "horizontal",
            "style": "IPY_MODEL_ffdc6bdbc8d644289c3c14a07a49b6f9",
            "value": 94
          }
        },
        "eba8fad416244e6a80d64ebbb0f076aa": {
          "model_module": "@jupyter-widgets/base",
          "model_module_version": "1.2.0",
          "model_name": "LayoutModel",
          "state": {
            "_model_module": "@jupyter-widgets/base",
            "_model_module_version": "1.2.0",
            "_model_name": "LayoutModel",
            "_view_count": null,
            "_view_module": "@jupyter-widgets/base",
            "_view_module_version": "1.2.0",
            "_view_name": "LayoutView",
            "align_content": null,
            "align_items": null,
            "align_self": null,
            "border": null,
            "bottom": null,
            "display": null,
            "flex": null,
            "flex_flow": null,
            "grid_area": null,
            "grid_auto_columns": null,
            "grid_auto_flow": null,
            "grid_auto_rows": null,
            "grid_column": null,
            "grid_gap": null,
            "grid_row": null,
            "grid_template_areas": null,
            "grid_template_columns": null,
            "grid_template_rows": null,
            "height": null,
            "justify_content": null,
            "justify_items": null,
            "left": null,
            "margin": null,
            "max_height": null,
            "max_width": null,
            "min_height": null,
            "min_width": null,
            "object_fit": null,
            "object_position": null,
            "order": null,
            "overflow": null,
            "overflow_x": null,
            "overflow_y": null,
            "padding": null,
            "right": null,
            "top": null,
            "visibility": null,
            "width": null
          }
        },
        "ffdc6bdbc8d644289c3c14a07a49b6f9": {
          "model_module": "@jupyter-widgets/controls",
          "model_module_version": "1.5.0",
          "model_name": "ProgressStyleModel",
          "state": {
            "_model_module": "@jupyter-widgets/controls",
            "_model_module_version": "1.5.0",
            "_model_name": "ProgressStyleModel",
            "_view_count": null,
            "_view_module": "@jupyter-widgets/base",
            "_view_module_version": "1.2.0",
            "_view_name": "StyleView",
            "bar_color": null,
            "description_width": ""
          }
        }
      }
    }
  },
  "nbformat": 4,
  "nbformat_minor": 0
}
