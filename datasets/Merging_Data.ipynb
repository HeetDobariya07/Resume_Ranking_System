{
 "cells": [
  {
   "cell_type": "code",
   "execution_count": null,
   "id": "c54aac1d",
   "metadata": {},
   "outputs": [],
   "source": [
    "import pandas as pd\n",
    "from sentence_transformers import SentenceTransformer, util\n",
    "\n",
    "# Load cleaned datasets\n",
    "resumes = pd.read_csv('resume_data_cleaned_final.csv')\n",
    "jobs = pd.read_csv('job_descriptions_cleaned.csv')\n",
    "\n",
    "bert_model = SentenceTransformer('all-MiniLM-L6-v2')\n",
    "\n",
    "def get_relevancy(resume_row, job_row):\n",
    "    resume_text = f\"{resume_row['skills']} {resume_row['education']} {resume_row['experience']}\"\n",
    "    job_text = f\"{job_row['required_skills']} {job_row['required_education']} {job_row['required_experience']}\"\n",
    "    emb1 = bert_model.encode(resume_text, convert_to_tensor=True)\n",
    "    emb2 = bert_model.encode(job_text, convert_to_tensor=True)\n",
    "    score = util.cos_sim(emb1, emb2).item()\n",
    "\n",
    "    # Normalize to [0, 1] then scale to [0, 100]\n",
    "    normalized_score = (score + 1) / 2  # Converts [-1,1] to [0,1]\n",
    "    return round(normalized_score * 100, 2)\n",
    "    # return round(score * 100, 2)\n",
    "\n",
    "# Example: Pair each resume with a random sample of jobs\n",
    "import numpy as np\n",
    "pairs = []\n",
    "for idx, resume in resumes.iterrows():\n",
    "    sampled_jobs = jobs.sample(n=5, random_state=42)  # or use smarter sampling\n",
    "    for _, job in sampled_jobs.iterrows():\n",
    "        score = get_relevancy(resume, job)\n",
    "        pairs.append({\n",
    "            'resume_id': resume['resume_id'],\n",
    "            'job_id': job['job_id'],\n",
    "            'resume_text': f\"{resume['skills']} {resume['education']} {resume['experience']}\",\n",
    "            'job_text': f\"{job['required_skills']} {job['required_education']} {job['required_experience']}\",\n",
    "            'relevancy_score': score\n",
    "        })\n",
    "\n",
    "labeled_df = pd.DataFrame(pairs)\n",
    "labeled_df.to_csv('labeled_resume_job_pairs.csv', index=False)"
   ]
  }
 ],
 "metadata": {
  "kernelspec": {
   "display_name": "Python 3",
   "language": "python",
   "name": "python3"
  },
  "language_info": {
   "codemirror_mode": {
    "name": "ipython",
    "version": 3
   },
   "file_extension": ".py",
   "mimetype": "text/x-python",
   "name": "python",
   "nbconvert_exporter": "python",
   "pygments_lexer": "ipython3",
   "version": "3.11.0"
  }
 },
 "nbformat": 4,
 "nbformat_minor": 5
}
